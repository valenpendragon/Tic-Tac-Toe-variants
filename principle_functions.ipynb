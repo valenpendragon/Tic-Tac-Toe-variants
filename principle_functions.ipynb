{
 "cells": [
  {
   "cell_type": "markdown",
   "metadata": {},
   "source": [
    "The next function draws a blank screen.`"
   ]
  },
  {
   "cell_type": "code",
   "execution_count": 45,
   "metadata": {
    "collapsed": true
   },
   "outputs": [],
   "source": [
    "def start_screen(size=3):\n",
    "    '''\n",
    "    This functions accepts a screen size, defaulting to 3 if not specified.\n",
    "    The blocks are 4 lines by 5 spaces inside the borders of the \"square\".\n",
    "    The rows are (5*size) + 1 long. There are (6*size) + 1 columns per row.\n",
    "    Each block has a coordinate block in row 1 of the 4 rows.\n",
    "    INPUT: integer size, defaults to 3\n",
    "    '''\n",
    "    # First, we make the top/bottom border. For now, it will use Bs for borders.\n",
    "    # border_char is a constant that is used to build the borders of the cells.\n",
    "    border_char = 'B'\n",
    "    # reference_ruler_horiz allows us to check lengths and positions.\n",
    "    reference_rule_horiz = '0123456789'*(size - 1)\n",
    "    horiz_border = border_char*((6*size) + 1)\n",
    "    print reference_rule_horiz\n",
    "    # Next, we need to create and print coordinate blocks.\n",
    "    print horiz_border\n",
    "    for row in xrange(0,size):\n",
    "        # coord_block (coordinate block) is where each cell's coordinates print out.\n",
    "        # cells_row1 of each cell is the first line below the coord_block.\n",
    "        # cells_row2 of each cell is the second line below the coord_block.\n",
    "        # cells_row3 of each cell is the third (and last) line below the coord_block.\n",
    "        # This initializes each line as the current row is constructed.\n",
    "        coord_block = cells_row1 = cells_row2 = cells_row3 = border_char\n",
    "        for col in xrange(0,size):\n",
    "            new_cell_coord = \"(\" + str(row)+\",\" + str(col) + \")\" + border_char\n",
    "            coord_block = coord_block + new_cell_coord\n",
    "            # Create the empty cells\n",
    "            new_cell_row1 = ' '*5 + border_char\n",
    "            cells_row1 = cells_row1 + new_cell_row1\n",
    "            new_cell_row2 = ' '*5 + border_char\n",
    "            cells_row2 = cells_row2 + new_cell_row2\n",
    "            new_cell_row3 = ' '*5 + border_char\n",
    "            cells_row3 = cells_row3 + new_cell_row3\n",
    "        print coord_block\n",
    "        print cells_row1\n",
    "        print cells_row2\n",
    "        print cells_row3\n",
    "        print horiz_border\n",
    "    return"
   ]
  },
  {
   "cell_type": "code",
   "execution_count": 46,
   "metadata": {
    "collapsed": false
   },
   "outputs": [
    {
     "name": "stdout",
     "output_type": "stream",
     "text": [
      "0123456789012345678901234567890123456789\n",
      "BBBBBBBBBBBBBBBBBBBBBBBBBBBBBBB\n",
      "B(0,0)B(0,1)B(0,2)B(0,3)B(0,4)B\n",
      "B     B     B     B     B     B\n",
      "B     B     B     B     B     B\n",
      "B     B     B     B     B     B\n",
      "BBBBBBBBBBBBBBBBBBBBBBBBBBBBBBB\n",
      "B(1,0)B(1,1)B(1,2)B(1,3)B(1,4)B\n",
      "B     B     B     B     B     B\n",
      "B     B     B     B     B     B\n",
      "B     B     B     B     B     B\n",
      "BBBBBBBBBBBBBBBBBBBBBBBBBBBBBBB\n",
      "B(2,0)B(2,1)B(2,2)B(2,3)B(2,4)B\n",
      "B     B     B     B     B     B\n",
      "B     B     B     B     B     B\n",
      "B     B     B     B     B     B\n",
      "BBBBBBBBBBBBBBBBBBBBBBBBBBBBBBB\n",
      "B(3,0)B(3,1)B(3,2)B(3,3)B(3,4)B\n",
      "B     B     B     B     B     B\n",
      "B     B     B     B     B     B\n",
      "B     B     B     B     B     B\n",
      "BBBBBBBBBBBBBBBBBBBBBBBBBBBBBBB\n",
      "B(4,0)B(4,1)B(4,2)B(4,3)B(4,4)B\n",
      "B     B     B     B     B     B\n",
      "B     B     B     B     B     B\n",
      "B     B     B     B     B     B\n",
      "BBBBBBBBBBBBBBBBBBBBBBBBBBBBBBB\n"
     ]
    }
   ],
   "source": [
    "start_screen(5)"
   ]
  }
 ],
 "metadata": {
  "kernelspec": {
   "display_name": "Python 2",
   "language": "python",
   "name": "python2"
  },
  "language_info": {
   "codemirror_mode": {
    "name": "ipython",
    "version": 2
   },
   "file_extension": ".py",
   "mimetype": "text/x-python",
   "name": "python",
   "nbconvert_exporter": "python",
   "pygments_lexer": "ipython2",
   "version": "2.7.13"
  }
 },
 "nbformat": 4,
 "nbformat_minor": 2
}
