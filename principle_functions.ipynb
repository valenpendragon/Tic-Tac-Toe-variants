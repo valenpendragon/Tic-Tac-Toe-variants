{
 "cells": [
  {
   "cell_type": "markdown",
   "metadata": {},
   "source": [
    "The next function draws a blank screen.`"
   ]
  },
  {
   "cell_type": "code",
   "execution_count": 4,
   "metadata": {
    "collapsed": true
   },
   "outputs": [],
   "source": [
    "def start_screen(size=3):\n",
    "    '''\n",
    "    This functions accepts a screen size, defaulting to 3 if not specified.\n",
    "    The blocks are 4 lines by 5 spaces inside the borders of the \"square\".\n",
    "    The rows are (5*size) + 1 long. There are (6*size) + 1 columns per row.\n",
    "    Each block has a coordinate block in row 1 of the 4 rows.\n",
    "    INPUT: integer size, defaults to 3\n",
    "    '''\n",
    "    # First, we make the top/bottom border. For now, it will use Bs for borders.\n",
    "    # border_char is a constant that is used to build the borders of the cells.\n",
    "    border_char = 'B'\n",
    "    # reference_ruler (horiz and vert) allows us to check lengths and positions.\n",
    "    reference_rule_horiz = '0123456789'*(int(size/2) + 1)\n",
    "    top_bottom_border = border_char*((5*size) + 1)\n",
    "    print top_bottom_border\n",
    "    print reference_rule_horiz\n",
    "    return"
   ]
  },
  {
   "cell_type": "code",
   "execution_count": 5,
   "metadata": {
    "collapsed": false
   },
   "outputs": [
    {
     "name": "stdout",
     "output_type": "stream",
     "text": [
      "BBBBBBBBBBBBBBBB\n",
      "01234567890123456789\n"
     ]
    }
   ],
   "source": [
    "start_screen()"
   ]
  }
 ],
 "metadata": {
  "kernelspec": {
   "display_name": "Python 2",
   "language": "python",
   "name": "python2"
  },
  "language_info": {
   "codemirror_mode": {
    "name": "ipython",
    "version": 2
   },
   "file_extension": ".py",
   "mimetype": "text/x-python",
   "name": "python",
   "nbconvert_exporter": "python",
   "pygments_lexer": "ipython2",
   "version": "2.7.13"
  }
 },
 "nbformat": 4,
 "nbformat_minor": 2
}
